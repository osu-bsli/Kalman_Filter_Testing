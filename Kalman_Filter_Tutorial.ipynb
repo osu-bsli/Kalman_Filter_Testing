{
 "cells": [
  {
   "cell_type": "markdown",
   "metadata": {},
   "source": [
    "Kalman Filter Introduction\n",
    "~~~~~~~~~~~~~~~~~~~~~~~~~~"
   ]
  },
  {
   "cell_type": "code",
   "execution_count": 23,
   "metadata": {},
   "outputs": [],
   "source": [
    "# Library imports\n",
    "import numpy as np\n",
    "import random as rd\n",
    "import matplotlib.pyplot as plt\n",
    "from filterpy.kalman import KalmanFilter\n",
    "from filterpy.common import Q_discrete_white_noise"
   ]
  },
  {
   "cell_type": "markdown",
   "metadata": {},
   "source": [
    "The Kalman filter is a predictive approach to state estimation. In short, the Kalman filter predicts what a measurement should be based on previous measurements and the model of the system. Then, the filter will use new measurements to update the prediction. Finally, the filter will assess the accuracy of the model and the sensor. These steps are repeated to converge to the true state.\n",
    "\n",
    "Hear are some resources about Kalman filters. Skim over these for a brief introduction to the theory:\n",
    "\n",
    "https://en.wikipedia.org/wiki/Kalman_filter\n",
    "\n",
    "https://web.mit.edu/kirtley/kirtley/binlustuff/literature/control/Kalman%20filter.pdf"
   ]
  },
  {
   "cell_type": "markdown",
   "metadata": {},
   "source": [
    "We will consider a simplified version of our air brake control problem. Consider a point mass moving upwards with zero acceleration. Then, we get the following equations of motion:\n",
    "\n",
    "    v(t) = v_0\n",
    "    y(t) = y_0 + v_0*t\n",
    "\n",
    "We will assume that we have sensors to measure y--our barometers; however, we cannot measure v directly. Additonally, our barometer is not 100% accurate nor precise. It exhibits some random noise in it's measurements and some random calibration error."
   ]
  },
  {
   "cell_type": "code",
   "execution_count": 24,
   "metadata": {},
   "outputs": [],
   "source": [
    "# ~~~~~~ Problem Setup ~~~~~~ \n",
    "\n",
    "# We include some randomness in the initialization to model uncertainty.\n",
    "# You can set a seed to get the same randomness everytime. To do so, uncomment the next line:\n",
    "# rd.seed(2024)\n",
    "\n",
    "# Class to model motion\n",
    "class MotionState:\n",
    "    # State Initialization\n",
    "    def __init__(self, y_0, v_0, timestep, sensor_var):\n",
    "        # Initial Conditions\n",
    "        self.y_0 = y_0\n",
    "        self.v_0 = v_0\n",
    "        self.y = y_0\n",
    "        self.v = v_0\n",
    "\n",
    "        # Sensor Error\n",
    "        self.sensor_var = sensor_var\n",
    "        self.calibration_error = rd.gauss(0.0, sensor_var)\n",
    "\n",
    "        # System Computation Timestep\n",
    "        self.timestep = timestep\n",
    "\n",
    "    # State advance\n",
    "    def advance_time(self):\n",
    "        self.y = self.y + self.timestep*self.v\n",
    "        self.v = self.v\n",
    "\n",
    "    # Read the barometer\n",
    "    def measure_y(self):\n",
    "        return rd.gauss(self.y, self.sensor_var) + self.calibration_error"
   ]
  },
  {
   "cell_type": "markdown",
   "metadata": {},
   "source": [
    "Next, we will use a Kalman Filter to estimate the position and velocity of an object as time advances. We will use the FilterPy library for this. See https://filterpy.readthedocs.io/en/latest/kalman/KalmanFilter.html for more information."
   ]
  },
  {
   "cell_type": "code",
   "execution_count": 25,
   "metadata": {},
   "outputs": [],
   "source": [
    "# TODO: Follow the example in the link to set up the Kalman Filter object.\n"
   ]
  },
  {
   "cell_type": "markdown",
   "metadata": {},
   "source": [
    "Now, we will create an object in motion, and see how the Kalman Filter does with measuring the state."
   ]
  },
  {
   "cell_type": "code",
   "execution_count": 26,
   "metadata": {},
   "outputs": [],
   "source": [
    "# Create our rocket in motion\n",
    "rocket = MotionState(y_0 = rd.randrange(5000, 10000), v_0 = rd.randrange(100, 250), timestep = 0.1, sensor_var = 0.1)"
   ]
  },
  {
   "cell_type": "code",
   "execution_count": null,
   "metadata": {},
   "outputs": [],
   "source": [
    "# Read the barometer sensor\n",
    "z = rocket.measure_y()\n",
    "# Estimate the state using the Kalman Filter loop\n",
    "f.predict()\n",
    "f.update(z)\n",
    "\n",
    "print(\"Height estimate is \", f.x[0])\n",
    "print(\"True height is \", rocket.y)\n",
    "print(\"Velocity estimate is \", f.x[1])\n",
    "print(\"True velocity is \", rocket.v)"
   ]
  },
  {
   "cell_type": "markdown",
   "metadata": {},
   "source": [
    "We will see how the estimates fair over time."
   ]
  },
  {
   "cell_type": "code",
   "execution_count": null,
   "metadata": {},
   "outputs": [],
   "source": [
    "# Initialize arrays to hold states\n",
    "y_estimates = [f.x[0]]\n",
    "v_estimates = [f.x[1]]\n",
    "y_trues = [rocket.y]\n",
    "v_trues = [rocket.v]\n",
    "array_size = 15\n",
    "\n",
    "for i in range(array_size - 1):\n",
    "    rocket.advance_time()\n",
    "\n",
    "    # Read the barometer sensor\n",
    "    z = rocket.measure_y()\n",
    "    # Estimate the state using the Kalman Filter loop\n",
    "    f.predict()\n",
    "    f.update(z)\n",
    "\n",
    "    # Fill arrays\n",
    "    y_estimates.append(f.x[0])\n",
    "    v_estimates.append(f.x[1])\n",
    "    y_trues.append(rocket.y)\n",
    "    v_trues.append(rocket.v)"
   ]
  },
  {
   "cell_type": "code",
   "execution_count": null,
   "metadata": {},
   "outputs": [],
   "source": [
    "# Graph the estimates\n",
    "times = np.linspace(start = 0.0, stop = array_size * rocket.timestep, num = array_size)\n",
    "fig, ax1 = plt.subplots()\n",
    "\n",
    "color = 'tab:red'\n",
    "ax1.set_xlabel('time (s)')\n",
    "ax1.set_ylabel('Height', color=color)\n",
    "ax1.plot(times, y_estimates, color=color, label=\"Y Estimate\", linestyle = \"dashed\")\n",
    "ax1.plot(times, y_trues, color=color, label=\"Y True\")\n",
    "ax1.tick_params(axis='y', labelcolor=color)\n",
    "plt.legend(loc='upper center')\n",
    "\n",
    "ax2 = ax1.twinx()  # instantiate a second Axes that shares the same x-axis\n",
    "\n",
    "color = 'tab:blue'\n",
    "ax2.set_ylabel('Velocity', color=color)  # we already handled the x-label with ax1\n",
    "ax2.plot(times, v_estimates, color=color, label=\"V Estimate\", linestyle = \"dashed\")\n",
    "ax2.plot(times, v_trues, color=color, label=\"V True\")\n",
    "ax2.tick_params(axis='y', labelcolor=color)\n",
    "plt.legend(loc='center right')\n",
    "\n",
    "fig.tight_layout()  # otherwise the right y-label is slightly clipped\n",
    "plt.show()"
   ]
  },
  {
   "cell_type": "markdown",
   "metadata": {},
   "source": [
    "Experiment with changing the sensor variatoin, timestep, and covariance matrix, process uncertainty, and measurement uncertainty. How do these values change the settling time of the Kalman Filter predicitons? (Be sure to rerun the kalman filter creation cell so the matrices reset). "
   ]
  }
 ],
 "metadata": {
  "kernelspec": {
   "display_name": "Python 3",
   "language": "python",
   "name": "python3"
  },
  "language_info": {
   "codemirror_mode": {
    "name": "ipython",
    "version": 3
   },
   "file_extension": ".py",
   "mimetype": "text/x-python",
   "name": "python",
   "nbconvert_exporter": "python",
   "pygments_lexer": "ipython3",
   "version": "3.9.13"
  }
 },
 "nbformat": 4,
 "nbformat_minor": 2
}
