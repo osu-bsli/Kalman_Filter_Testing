{
 "cells": [
  {
   "cell_type": "markdown",
   "metadata": {},
   "source": [
    "PID Control Introduction\n",
    "~~~~~~~~~~~~~~~~~~~~~~~~~~"
   ]
  },
  {
   "cell_type": "code",
   "execution_count": 598,
   "metadata": {},
   "outputs": [],
   "source": [
    "# Library imports\n",
    "import numpy as np\n",
    "import random as rd\n",
    "import matplotlib.pyplot as plt\n",
    "\n",
    "seed = 2024\n",
    "rd.seed(seed)\n",
    "y_0 = rd.randrange(5000, 10000)\n",
    "v_0 = rd.randrange(100, 250)"
   ]
  },
  {
   "cell_type": "markdown",
   "metadata": {},
   "source": [
    "Controllers aim to control a process to keep some variable at a certain setpoint. A PID controller produces a control output by weighting three terms derived from how far the process is from the setpoint. The P stands for \"proportional\"; this term is the difference (error) between the currect process and the setpoint. The I stands for \"integral\"; this term is the accumulated error of the process over the entire time under control. The D stands for \"derivative\"; this term is the change in error.\n",
    "\n",
    "Hear are some resources about Kalman filters. Skim over these for a brief introduction to the theory:\n",
    "\n",
    "https://en.wikipedia.org/wiki/Proportional%E2%80%93integral%E2%80%93derivative_controller\n",
    "\n",
    "https://www.ni.com/en/shop/labview/pid-theory-explained.html"
   ]
  },
  {
   "cell_type": "markdown",
   "metadata": {},
   "source": [
    "We will consider a simplified version of our air brake control problem. Consider a point mass moving upwards with constant acceleration. Then, we get the following equations of motion:\n",
    "\n",
    "    v(t) = v_0 + a_0*t\n",
    "    y(t) = y_0 + v_0*t + a_0*t^2\n",
    "\n",
    "We will assume that we have sensors to measure y--our barometers; however, we cannot measure v directly. Additonally, our barometer is 100% accurate and precise. We want to set the height to 15,000, but we control the system by adding velocity (deploying air brakes)."
   ]
  },
  {
   "cell_type": "code",
   "execution_count": 599,
   "metadata": {},
   "outputs": [],
   "source": [
    "# ~~~~~~ Problem Setup ~~~~~~ \n",
    "\n",
    "# We include some randomness in the initialization to model uncertainty.\n",
    "# You can set a seed to get the same randomness everytime. To do so, uncomment the next line:\n",
    "# random.seed(2024)\n",
    "\n",
    "# Class to model motion\n",
    "class MotionState:\n",
    "    # State Initialization\n",
    "    def __init__(self, y_0, v_0, timestep, sensor_var):\n",
    "        # Initial Conditions\n",
    "        self.y_0 = y_0\n",
    "        self.v_0 = v_0\n",
    "        self.y = y_0\n",
    "        self.v = v_0\n",
    "        # System Computation Timestep\n",
    "        self.timestep = timestep\n",
    "\n",
    "    # State advance\n",
    "    def advance_time(self):\n",
    "        self.v = self.v + self.timestep*-10000\n",
    "        self.y = self.y + self.timestep*self.v\n",
    "\n",
    "    # Read the barometer\n",
    "    def measure_y(self):\n",
    "        return self.y"
   ]
  },
  {
   "cell_type": "markdown",
   "metadata": {},
   "source": [
    "Next, we will setup our PID controller"
   ]
  },
  {
   "cell_type": "code",
   "execution_count": 600,
   "metadata": {},
   "outputs": [],
   "source": [
    "# Class for PID controller\n",
    "class PIDController:\n",
    "    # Initialize constants\n",
    "    def __init__(self, K_proportional, K_integral, K_derivative, timestep, setpoint):\n",
    "        self.K_p = K_proportional\n",
    "        self.K_i = K_integral\n",
    "        self.K_d = K_derivative\n",
    "\n",
    "        self.dt = timestep\n",
    "        self.setpoint = setpoint\n",
    "\n",
    "        self.current_error = 0\n",
    "        self.integral = 0\n",
    "        self.previous_error = 0\n",
    "\n",
    "    # Control output\n",
    "    def control(self, measured_value):\n",
    "        # Calculate the proportional response\n",
    "        self.current_error = self.setpoint - measured_value\n",
    "        # Accumulate error\n",
    "        self.integral = self.integral + self.current_error*self.dt\n",
    "        # Calculate change in error\n",
    "        derivative = (self.current_error - self.previous_error)/self.dt\n",
    "        self.previous_error = self.current_error\n",
    "\n",
    "        # Return control output\n",
    "        return self.K_p*self.current_error + self.K_i*self.integral + self.K_d*derivative"
   ]
  },
  {
   "cell_type": "markdown",
   "metadata": {},
   "source": [
    "Now, we will create an object in motion, and see how the PID controller does with controlling the state. When creating the controller, we have a choice of constants. We will first see what happens when these constants are chosen randomly. Then, we will systematically choose good constants."
   ]
  },
  {
   "cell_type": "code",
   "execution_count": 601,
   "metadata": {},
   "outputs": [],
   "source": [
    "# Create our rocket in motion\n",
    "rocket = MotionState(y_0 = y_0, v_0 = v_0, timestep = 0.1, sensor_var = 0.1)\n",
    "\n",
    "# Create our controller\n",
    "pid = PIDController(K_proportional=rd.randrange(0, 10), K_integral=rd.randrange(0, 10), K_derivative=rd.randrange(0, 10), timestep=0.1, setpoint=7500)"
   ]
  },
  {
   "cell_type": "markdown",
   "metadata": {},
   "source": [
    "We will see how the system fair over time."
   ]
  },
  {
   "cell_type": "code",
   "execution_count": 602,
   "metadata": {},
   "outputs": [],
   "source": [
    "# Initialize arrays to hold states\n",
    "heights = []\n",
    "array_size = 20\n",
    "\n",
    "for i in range(array_size):\n",
    "    # Read the barometer sensor\n",
    "    y = rocket.measure_y()\n",
    "    # Calculate controller output\n",
    "    u = pid.control(y)\n",
    "    \n",
    "    # Adjust the system\n",
    "    rocket.v = u\n",
    "    # Advance time\n",
    "    rocket.advance_time()\n",
    "\n",
    "    # Fill arrays\n",
    "    heights.append(y)\n",
    "    "
   ]
  },
  {
   "cell_type": "code",
   "execution_count": 603,
   "metadata": {},
   "outputs": [
    {
     "data": {
      "image/png": "[encoded data removed]",
      "text/plain": [
       "<Figure size 432x288 with 1 Axes>"
      ]
     },
     "metadata": {
      "needs_background": "light"
     },
     "output_type": "display_data"
    }
   ],
   "source": [
    "# Graph the system\n",
    "times = np.linspace(start = 0.0, stop = array_size * rocket.timestep, num = array_size)\n",
    "setpoints = np.empty(array_size)\n",
    "setpoints.fill(pid.setpoint)\n",
    "\n",
    "plt.plot(times, heights, color=\"blue\", label=\"Height\")\n",
    "plt.plot(times, setpoints, label=\"Setpoint\", color=\"red\", linestyle = \"dashed\")\n",
    "plt.legend()\n",
    "\n",
    "plt.show()"
   ]
  },
  {
   "cell_type": "markdown",
   "metadata": {},
   "source": [
    "You should see that the controller didn't work well (unless you got lucky with the random constants). Instead, we need to tune the constants of the controller."
   ]
  },
  {
   "cell_type": "markdown",
   "metadata": {},
   "source": [
    "We'll start by tuning the P constant leaving all others to be zero. This term corresponds to how quickly the controller reaches a steady state. A higher K_p value will result in more sensitivity. There will alsways be steady-state error, so the P controller will oscilate. Play around with the constant until the controller oscilates quickly enough the affect the height, but not so quickly that we can't recover."
   ]
  },
  {
   "cell_type": "code",
   "execution_count": 604,
   "metadata": {},
   "outputs": [
    {
     "data": {
      "image/png": "[encoded data removed]",
      "text/plain": [
       "<Figure size 432x288 with 1 Axes>"
      ]
     },
     "metadata": {
      "needs_background": "light"
     },
     "output_type": "display_data"
    }
   ],
   "source": [
    "# Create our rocket in motion\n",
    "rocket = MotionState(y_0 = y_0, v_0 = v_0, timestep = 0.1, sensor_var = 0.1)\n",
    "\n",
    "# Create our controller\n",
    "K_p = 10\n",
    "pid = PIDController(K_proportional=K_p, K_integral=0, K_derivative=0, timestep=0.1, setpoint=7500)\n",
    "\n",
    "# Initialize arrays to hold states\n",
    "heights = []\n",
    "array_size = 20\n",
    "\n",
    "for i in range(array_size):\n",
    "    # Read the barometer sensor\n",
    "    y = rocket.measure_y()\n",
    "    # Calculate controller output\n",
    "    u = pid.control(y)\n",
    "    \n",
    "    # Adjust the system\n",
    "    rocket.v = u\n",
    "    # Advance time\n",
    "    rocket.advance_time()\n",
    "\n",
    "    # Fill arrays\n",
    "    heights.append(y)\n",
    "\n",
    "# Graph the system\n",
    "times = np.linspace(start = 0.0, stop = array_size * rocket.timestep, num = array_size)\n",
    "setpoints = np.empty(array_size)\n",
    "setpoints.fill(pid.setpoint)\n",
    "\n",
    "plt.plot(times, heights, color=\"blue\", label=\"Height\")\n",
    "plt.plot(times, setpoints, label=\"Setpoint\", color=\"red\", linestyle = \"dashed\")\n",
    "plt.legend()\n",
    "\n",
    "plt.show()"
   ]
  },
  {
   "cell_type": "markdown",
   "metadata": {},
   "source": [
    "Next, we'll add the integral term. This term corrects the steady-state error. Tweak this constant until the controllersettles quickly to the setpoint."
   ]
  },
  {
   "cell_type": "code",
   "execution_count": 605,
   "metadata": {},
   "outputs": [
    {
     "data": {
      "image/png": "[encoded data removed]",
      "text/plain": [
       "<Figure size 432x288 with 1 Axes>"
      ]
     },
     "metadata": {
      "needs_background": "light"
     },
     "output_type": "display_data"
    }
   ],
   "source": [
    "# Create our rocket in motion\n",
    "rocket = MotionState(y_0 = y_0, v_0 = v_0, timestep = 0.1, sensor_var = 0.1)\n",
    "\n",
    "# Create our controller\n",
    "K_i = 10\n",
    "pid = PIDController(K_proportional=K_p, K_integral=K_i, K_derivative=0, timestep=0.1, setpoint=7500)\n",
    "\n",
    "# Initialize arrays to hold states\n",
    "heights = []\n",
    "array_size = 20\n",
    "\n",
    "for i in range(array_size):\n",
    "    # Read the barometer sensor\n",
    "    y = rocket.measure_y()\n",
    "    # Calculate controller output\n",
    "    u = pid.control(y)\n",
    "    \n",
    "    # Adjust the system\n",
    "    rocket.v = u\n",
    "    # Advance time\n",
    "    rocket.advance_time()\n",
    "\n",
    "    # Fill arrays\n",
    "    heights.append(y)\n",
    "\n",
    "# Graph the system\n",
    "times = np.linspace(start = 0.0, stop = array_size * rocket.timestep, num = array_size)\n",
    "setpoints = np.empty(array_size)\n",
    "setpoints.fill(pid.setpoint)\n",
    "\n",
    "plt.plot(times, heights, color=\"blue\", label=\"Height\")\n",
    "plt.plot(times, setpoints, label=\"Setpoint\", color=\"red\", linestyle = \"dashed\")\n",
    "plt.legend()\n",
    "\n",
    "plt.show()"
   ]
  },
  {
   "cell_type": "markdown",
   "metadata": {},
   "source": [
    "Finally, we'll add the derivative term. This term predicts the future rate of change, and can result in a faster response but isn't also necessary. If the controller starts oscilating more, the K_d is too high."
   ]
  },
  {
   "cell_type": "code",
   "execution_count": 606,
   "metadata": {},
   "outputs": [
    {
     "data": {
      "image/png": "[encoded data removed]",
      "text/plain": [
       "<Figure size 432x288 with 1 Axes>"
      ]
     },
     "metadata": {
      "needs_background": "light"
     },
     "output_type": "display_data"
    }
   ],
   "source": [
    "# Create our rocket in motion\n",
    "rocket = MotionState(y_0 = y_0, v_0 = v_0, timestep = 0.1, sensor_var = 0.1)\n",
    "\n",
    "# Create our controller\n",
    "K_d = 0.1\n",
    "pid = PIDController(K_proportional=K_p, K_integral=K_i, K_derivative=K_d, timestep=0.1, setpoint=7500)\n",
    "\n",
    "# Initialize arrays to hold states\n",
    "heights = []\n",
    "array_size = 20\n",
    "\n",
    "for i in range(array_size):\n",
    "    # Read the barometer sensor\n",
    "    y = rocket.measure_y()\n",
    "    # Calculate controller output\n",
    "    u = pid.control(y)\n",
    "    \n",
    "    # Adjust the system\n",
    "    rocket.v = u\n",
    "    # Advance time\n",
    "    rocket.advance_time()\n",
    "\n",
    "    # Fill arrays\n",
    "    heights.append(y)\n",
    "\n",
    "# Graph the system\n",
    "times = np.linspace(start = 0.0, stop = array_size * rocket.timestep, num = array_size)\n",
    "setpoints = np.empty(array_size)\n",
    "setpoints.fill(pid.setpoint)\n",
    "\n",
    "plt.plot(times, heights, color=\"blue\", label=\"Height\")\n",
    "plt.plot(times, setpoints, label=\"Setpoint\", color=\"red\", linestyle = \"dashed\")\n",
    "plt.legend()\n",
    "\n",
    "plt.show()"
   ]
  },
  {
   "cell_type": "markdown",
   "metadata": {},
   "source": [
    "These constants are tuned for the specifc set of initial conditions and setpoint. Try changing the initial conditions and setpoint. Does the controller still work well? Also try changing the model."
   ]
  }
 ],
 "metadata": {
  "kernelspec": {
   "display_name": "Python 3",
   "language": "python",
   "name": "python3"
  },
  "language_info": {
   "codemirror_mode": {
    "name": "ipython",
    "version": 3
   },
   "file_extension": ".py",
   "mimetype": "text/x-python",
   "name": "python",
   "nbconvert_exporter": "python",
   "pygments_lexer": "ipython3",
   "version": "3.9.13"
  }
 },
 "nbformat": 4,
 "nbformat_minor": 2
}
